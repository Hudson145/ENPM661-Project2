{
  "metadata": {
    "kernelspec": {
      "name": "python",
      "display_name": "Python (Pyodide)",
      "language": "python"
    },
    "language_info": {
      "codemirror_mode": {
        "name": "python",
        "version": 3
      },
      "file_extension": ".py",
      "mimetype": "text/x-python",
      "name": "python",
      "nbconvert_exporter": "python",
      "pygments_lexer": "ipython3",
      "version": "3.8"
    }
  },
  "nbformat_minor": 4,
  "nbformat": 4,
  "cells": [
    {
      "cell_type": "markdown",
      "source": "Project 2 \nENPM 661 Planning for Autonomous Robots \n\n\n\nHeqin Wang\nUID:115489691 \nComplete alone without a group member",
      "metadata": {}
    },
    {
      "cell_type": "code",
      "source": "import numpy as np\nimport math\nimport heapq\nimport time\nimport matplotlib.pyplot as plt\nimport cv2\nimport pygame\n\n# Record the start time to measure execution duration\nstart_time = time.time()\n",
      "metadata": {
        "trusted": true
      },
      "outputs": [],
      "execution_count": null
    },
    {
      "cell_type": "code",
      "source": "class PointRobot:\n    def __init__(self, position):\n        self.position = position\n\n    def move(self, direction):\n        x, y = self.position\n        moves = {\n            \"UP\": (x, y-1),\n            \"DOWN\": (x, y+1),\n            \"LEFT\": (x-1, y),\n            \"RIGHT\": (x+1, y),\n            \"UP_LEFT\": (x-1, y-1),\n            \"UP_RIGHT\": (x+1, y-1),\n            \"DOWN_LEFT\": (x-1, y+1),\n            \"DOWN_RIGHT\": (x+1, y+1),\n        }\n        if direction in moves and self.is_valid_move(moves[direction]):\n            self.position = moves[direction]\n            return self.position, True\n        return self.position, False\n\n    def is_valid_move(self, position):\n        x, y = position\n        return 0 <= x < 300 and 0 <= y < 200\n",
      "metadata": {
        "trusted": true
      },
      "outputs": [],
      "execution_count": null
    },
    {
      "cell_type": "code",
      "source": "# Start the robot at a starting position\nrobot = PointRobot((0, 0))\n\n# Example movements\nmovements = [\"UP\", \"RIGHT\", \"DOWN_RIGHT\"]\nfor move in movements:\n    new_position, success = robot.move(move)\n    if success:\n        print(f\"Moved {move} to {new_position}\")\n    else:\n        print(f\"Failed to move {move} from {robot.position}\")\n",
      "metadata": {
        "trusted": true
      },
      "outputs": [],
      "execution_count": null
    },
    {
      "cell_type": "code",
      "source": "# Simplify the creation of grid points\nall_points = [(x, y) for x in range(301) for y in range(201)]\n",
      "metadata": {
        "trusted": true
      },
      "outputs": [],
      "execution_count": null
    },
    {
      "cell_type": "code",
      "source": "class GridGraph:\n    def __init__(self, width, height):\n        self.width = width\n        self.height = height\n        self.graph = self.initialize_graph()\n    \n    def initialize_graph(self):\n        graph = {}\n        for x in range(self.width):\n            for y in range(self.height):\n                neighbors = self.find_neighbors(x, y)\n                graph[(x, y)] = neighbors\n        return graph\n    \n    def find_neighbors(self, x, y):\n        directions = [(0, 1), (1, 0), (-1, 0), (0, -1),\n                      (1, 1), (-1, -1), (1, -1), (-1, 1)]\n        neighbors = []\n        for dx, dy in directions:\n            nx, ny = x + dx, y + dy\n            if 0 <= nx < self.width and 0 <= ny < self.height:\n                neighbors.append((nx, ny))\n        return neighbors\n",
      "metadata": {
        "trusted": true
      },
      "outputs": [],
      "execution_count": null
    },
    {
      "cell_type": "code",
      "source": "    def calculate_costs(self):\n        costs = {}\n        for node, neighbors in self.graph.items():\n            costs[node] = {}\n            for neighbor in neighbors:\n                if self.is_diagonal_move(node, neighbor):\n                    costs[node][neighbor] = 1.414\n                else:\n                    costs[node][neighbor] = 1\n        return costs\n    \n    @staticmethod\n    def is_diagonal_move(node, neighbor):\n        return abs(node[0] - neighbor[0]) == 1 and abs(node[1] - neighbor[1]) == 1\n",
      "metadata": {
        "trusted": true
      },
      "outputs": [],
      "execution_count": null
    },
    {
      "cell_type": "code",
      "source": "class DijkstraPathFinder:\n    def __init__(self, graph, start):\n        self.graph = graph\n        self.start = start\n        self.all_distance = {vertex: math.inf for vertex in self.graph}\n        self.all_distance[start] = 0\n        self.backtracking = {}\n        self.visited = set()\n        self.priority_queue = [(0, start)]\n\n    def search(self, goal):\n        while self.priority_queue:\n            current_distance, current_vertex = heapq.heappop(self.priority_queue)\n\n            if current_vertex == goal:\n                print('GOAL REACHED')\n                return self.all_distance, self.backtracking\n\n            if current_distance > self.all_distance[current_vertex]:\n                continue\n\n            for neighbor, cost in self.graph[current_vertex].items():\n                new_distance = current_distance + cost\n                if new_distance < self.all_distance[neighbor]:\n                    self.all_distance[neighbor] = new_distance\n                    heapq.heappush(self.priority_queue, (new_distance, neighbor))\n                    self.backtracking[neighbor] = current_vertex\n                    self.visited.add(current_vertex)\n\n        return self.all_distance, self.backtracking\n",
      "metadata": {
        "trusted": true
      },
      "outputs": [],
      "execution_count": null
    },
    {
      "cell_type": "code",
      "source": "    def backtrack_path(self, goal):\n        path = [goal]\n        while path[-1] != self.start:\n            path.append(self.backtracking[path[-1]])\n        path.reverse()\n        return path\n",
      "metadata": {
        "trusted": true
      },
      "outputs": [],
      "execution_count": null
    },
    {
      "cell_type": "code",
      "source": "# Assume 'graph' is previously defined as a dictionary where keys are nodes and values are dictionaries\n# of neighboring nodes with their corresponding edge costs.\nstart_node = (0, 0)\ngoal_node = (50, 50)\npath_finder = DijkstraPathFinder(graph, start_node)\n\n# Perform the search for the path to the goal\n_, backtracking = path_finder.search(goal_node)\n\n# Backtrack to find the path from start to goal\npath = path_finder.backtrack_path(goal_node)\n\nprint(\"Path from start to goal:\", path)\n",
      "metadata": {
        "trusted": true
      },
      "outputs": [],
      "execution_count": null
    },
    {
      "cell_type": "code",
      "source": "def collect_user_input():\n    x_start = int(input(\"Enter the x coordinate of the start: \"))\n    y_start = int(input(\"Enter the y coordinate of the start: \"))\n    x_goal = int(input(\"Enter the x coordinate of the goal: \"))\n    y_goal = int(input(\"Enter the y coordinate of the goal: \"))\n    return (x_start, y_start), (x_goal, y_goal)\n",
      "metadata": {
        "trusted": true
      },
      "outputs": [],
      "execution_count": null
    },
    {
      "cell_type": "code",
      "source": "def execute_pathfinding():\n    start, goal = collect_user_input()\n    width, height = 300, 200\n    # Assuming PointRobotdijkstra is refactored to a class that encapsulates the given logic\n    pathfinder = PointRobotPathfinder(width, height, start, goal)\n    pathfinder.find_obstacles()\n    pathfinder.generate_graph()\n    pathfinder.execute_dijkstra()\n    \n    # Visualize the result\n    pathfinder.visualize_path()\n    # Animate the path discovery and backtracking\n    pathfinder.animate_discovery()\n\n    print(\"Final Path:\", pathfinder.backtrack_path())\n    print(\"Total Time Taken : \", time.time() - start_time, \"seconds\")\n",
      "metadata": {
        "trusted": true
      },
      "outputs": [],
      "execution_count": null
    },
    {
      "cell_type": "code",
      "source": "class PointRobotPathfinder:\n    # Initialization and method definitions as before\n    \n    def visualize_path(self):\n        # Assuming `new_canvas` is part of this class now\n        for point in self.list_of_all_points:\n            x, y = point[1], point[0]\n            self.new_canvas[(y, x)] = [0, 255, 255]  # Yellow for obstacles\n        self.new_canvas = np.flipud(self.new_canvas)\n        cv2.imshow('Path', cv2.resize(self.new_canvas, (600, 400)))\n        cv2.waitKey(0)\n        cv2.destroyAllWindows()\n\n    def animate_discovery(self):\n        # Animation logic integrated here\n        pygame.init()\n        gameDisplay = pygame.display.set_mode((self.width, self.height))\n        pygame.display.set_caption('Path Discovery Animation')\n        # Animation loop as before\n",
      "metadata": {
        "trusted": true
      },
      "outputs": [],
      "execution_count": null
    },
    {
      "cell_type": "code",
      "source": "if __name__ == \"__main__\":\n    execute_pathfinding()\n",
      "metadata": {
        "trusted": true
      },
      "outputs": [],
      "execution_count": null
    }
  ]
}