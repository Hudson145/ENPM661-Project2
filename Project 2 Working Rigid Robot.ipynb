{
  "metadata": {
    "kernelspec": {
      "name": "python",
      "display_name": "Python (Pyodide)",
      "language": "python"
    },
    "language_info": {
      "codemirror_mode": {
        "name": "ipython",
        "version": 3
      },
      "file_extension": ".py",
      "mimetype": "text/x-python",
      "name": "python",
      "nbconvert_exporter": "python",
      "pygments_lexer": "ipython3",
      "version": "3.7.4"
    }
  },
  "nbformat_minor": 4,
  "nbformat": 4,
  "cells": [
    {
      "cell_type": "markdown",
      "source": "Project 2 \nENPM 661 Planning for Autonomous Robots \n\n\nHeqin Wang\nUID:115489691\nSolo completion without teammates",
      "metadata": {}
    },
    {
      "cell_type": "code",
      "source": "import numpy as np\nimport heapq\nimport time\nimport cv2  # For visualization\nimport pygame  # For animation\nfrom math import sqrt\n",
      "metadata": {
        "trusted": true
      },
      "outputs": [],
      "execution_count": null
    },
    {
      "cell_type": "code",
      "source": "class RigidRobot:\n    def __init__(self, start_pos):\n        self.position = start_pos\n        self.movements = {\n            'UP': (0, -1, 1),\n            'DOWN': (0, 1, 1),\n            'LEFT': (-1, 0, 1),\n            'RIGHT': (1, 0, 1),\n            'UP_LEFT': (-1, -1, sqrt(2)),\n            'UP_RIGHT': (1, -1, sqrt(2)),\n            'DOWN_LEFT': (-1, 1, sqrt(2)),\n            'DOWN_RIGHT': (1, 1, sqrt(2))\n        }\n\n    def move(self, direction):\n        dx, dy, cost = self.movements[direction]\n        new_x, new_y = self.position[0] + dx, self.position[1] + dy\n        # Ensure the new position is within bounds and not an obstacle\n        if self.is_valid_position(new_x, new_y):\n            self.position = (new_x, new_y)\n            return self.position, True, cost\n        return self.position, False, cost\n\n    def is_valid_position(self, x, y):\n        # Placeholder for validity check including boundaries and obstacles\n        return True\n",
      "metadata": {
        "trusted": true
      },
      "outputs": [],
      "execution_count": null
    },
    {
      "cell_type": "code",
      "source": "start_time = time.time()\ndef execute_moves(robot, moves):\n    for move in moves:\n        position, success, cost = robot.move(move)\n        if not success:\n            print(f\"Move {move} from {robot.position} failed.\")\n        else:\n            print(f\"Moved {move} to {position}, cost: {cost}\")\n",
      "metadata": {
        "trusted": true
      },
      "outputs": [],
      "execution_count": null
    },
    {
      "cell_type": "code",
      "source": "def generate_all_points(width, height):\n    return [(x, y) for x in range(width) for y in range(height)]\n",
      "metadata": {
        "trusted": true
      },
      "outputs": [],
      "execution_count": null
    },
    {
      "cell_type": "code",
      "source": "class Graph:\n    def __init__(self, width, height):\n        self.width = width\n        self.height = height\n        self.graph = {}\n    \n    def generate_graph(self):\n        for x in range(self.width):\n            for y in range(self.height):\n                self.graph[(x, y)] = self.get_neighbors_with_costs(x, y)\n    \n    def get_neighbors_with_costs(self, x, y):\n        moves = [\n            ((0, 1), 1), ((1, 0), 1), ((-1, 0), 1), ((0, -1), 1),\n            ((-1, -1), 1.414), ((1, 1), 1.414), ((-1, 1), 1.414), ((1, -1), 1.414)\n        ]\n        neighbors = {}\n        for (dx, dy), cost in moves:\n            nx, ny = x + dx, y + dy\n            if 0 <= nx < self.width and 0 <= ny < self.height:\n                neighbors[(nx, ny)] = cost\n        return neighbors\n",
      "metadata": {
        "trusted": true
      },
      "outputs": [],
      "execution_count": null
    },
    {
      "cell_type": "code",
      "source": "class DijkstraPathfinder:\n    def __init__(self, graph, start, goal):\n        self.graph = graph\n        self.start = start\n        self.goal = goal\n        self.visited = set([start])\n        self.distance = {node: math.inf for node in graph}\n        self.distance[start] = 0\n        self.backtracking = {}\n        self.priority_queue = [(0, start)]\n\n    def find_path(self):\n        while self.priority_queue:\n            current_distance, current_node = heapq.heappop(self.priority_queue)\n\n            if current_node == self.goal:\n                print(\"GOAL REACHED\")\n                return self.reconstruct_path()\n\n            for neighbor, cost in self.graph[current_node].items():\n                new_distance = current_distance + cost\n                if neighbor not in self.visited or new_distance < self.distance[neighbor]:\n                    self.distance[neighbor] = new_distance\n                    heapq.heappush(self.priority_queue, (new_distance, neighbor))\n                    self.backtracking[neighbor] = current_node\n                    self.visited.add(neighbor)\n\n        return []\n\n    def reconstruct_path(self):\n        path = []\n        current = self.goal\n        while current != self.start:\n            path.append(current)\n            current = self.backtracking[current]\n        path.append(self.start)\n        path.reverse()\n        return path\n",
      "metadata": {
        "trusted": true
      },
      "outputs": [],
      "execution_count": null
    },
    {
      "cell_type": "code",
      "source": "if __name__ == \"__main__\":\n    start = (0, 0)  # Example start position\n    goal = (10, 10)  # Example goal position\n    graph = {}  # Assume a previously created graph with nodes and costs\n\n    # Create an instance of the pathfinder with the graph, start, and goal nodes\n    pathfinder = DijkstraPathfinder(graph, start, goal)\n    path = pathfinder.find_path()\n\n    print(\"Found path:\", path)\n",
      "metadata": {
        "trusted": true
      },
      "outputs": [],
      "execution_count": null
    },
    {
      "cell_type": "code",
      "source": "class RigidRobotEnvironment:\n    def __init__(self, width, height, radius, clearance):\n        self.width = width + 1\n        self.height = height + 1\n        self.radius = radius\n        self.clearance = clearance\n        self.obstacle_points = set()\n        self.traversable_points = set()\n        self.initialize_obstacles()\n\n    def initialize_obstacles(self):\n        # Implementation for identifying obstacles and non-traversable points\n        # taking into account the robot's radius and clearance requirements.\n        pass\n\n    def is_goal_in_obstacle(self, goal):\n        return goal in self.obstacle_points or goal in self.traversable_points\n\n    def generate_graph(self):\n        # Graph generation considering the obstacles and robot constraints\n        pass\n",
      "metadata": {
        "trusted": true
      },
      "outputs": [],
      "execution_count": null
    },
    {
      "cell_type": "code",
      "source": "class RigidRobotDijkstra:\n    def __init__(self, environment, start, goal):\n        self.environment = environment\n        self.start = start\n        self.goal = goal\n        self.visited = set()\n        self.distance = {point: math.inf for point in self.environment.traversable_points}\n        self.backtracking = {}\n        self.priority_queue = [(0, start)]\n\n    def find_path(self):\n        # Implementation of the Dijkstra algorithm tailored for the rigid robot,\n        # considering the traversable space and obstacles.\n        pass\n\n    def reconstruct_path(self):\n        # Path reconstruction from the goal to the start node, using backtracking.\n        pass\n",
      "metadata": {
        "trusted": true
      },
      "outputs": [],
      "execution_count": null
    },
    {
      "cell_type": "code",
      "source": "def main():\n    width, height = 300, 200\n    radius, clearance = 5, 5  # Example values\n    start, goal = (20, 30), (250, 180)  # Example start and goal positions\n\n    environment = RigidRobotEnvironment(width, height, radius, clearance)\n    if environment.is_goal_in_obstacle(goal):\n        print('The goal is within an obstacle. Please choose a different goal.')\n        return\n\n    dijkstra_pathfinder = RigidRobotDijkstra(environment, start, goal)\n    path = dijkstra_pathfinder.find_path()\n    print(\"Found path:\", path)\n\nif __name__ == \"__main__\":\n    main()\n",
      "metadata": {
        "trusted": true
      },
      "outputs": [],
      "execution_count": null
    },
    {
      "cell_type": "code",
      "source": "def collect_user_inputs():\n    x_start = int(input(\"Enter the x coordinate of the start: \"))\n    y_start = int(input(\"Enter the y coordinate of the start: \"))\n    x_goal = int(input(\"Enter the x coordinate of the goal: \"))\n    y_goal = int(input(\"Enter the y coordinate of the goal: \"))\n    radius = int(input(\"Enter the radius of the robot: \"))\n    clearance = int(input(\"Enter the clearance of the robot: \"))\n    return (x_start, y_start), (x_goal, y_goal), radius, clearance\n",
      "metadata": {
        "trusted": true
      },
      "outputs": [],
      "execution_count": null
    },
    {
      "cell_type": "code",
      "source": "class RigidRobotPathfinder:\n    def __init__(self, start, goal, radius, clearance):\n        self.start = start\n        self.goal = goal\n        self.radius = radius\n        self.clearance = clearance\n        self.all_distance = {}\n        self.visited = []\n        self.backtrack = {}\n        self.obstacles_map = []\n        self.initialize_environment()\n\n    def initialize_environment(self):\n        # Populate self.obstacles_map based on radius and clearance\n        pass\n\n    def execute_pathfinding(self):\n        # Implement the Dijkstra algorithm and populate all_distance, visited, and backtrack\n        pass\n\n    def visualize_path(self):\n        # Use OpenCV or Pygame for visualization\n        pass\n\n    def animate_exploration(self):\n        # Implement the animation of node exploration and final path\n        pass\n",
      "metadata": {
        "trusted": true
      },
      "outputs": [],
      "execution_count": null
    },
    {
      "cell_type": "code",
      "source": "class RigidRobotPathfinder:\n    def __init__(self, start, goal, radius, clearance):\n        self.start = start\n        self.goal = goal\n        self.radius = radius\n        self.clearance = clearance\n        self.all_distance = {}\n        self.visited = []\n        self.backtrack = {}\n        self.obstacles_map = []\n        self.initialize_environment()\n\n    def initialize_environment(self):\n        # Populate self.obstacles_map based on radius and clearance\n        pass\n\n    def execute_pathfinding(self):\n        # Implement the Dijkstra algorithm and populate all_distance, visited, and backtrack\n        pass\n\n    def visualize_path(self):\n        # Use OpenCV or Pygame for visualization\n        pass\n\n    def animate_exploration(self):\n        # Implement the animation of node exploration and final path\n        pass\n",
      "metadata": {
        "trusted": true
      },
      "outputs": [],
      "execution_count": null
    },
    {
      "cell_type": "code",
      "source": "def main():\n    start, goal, radius, clearance = collect_user_inputs()\n    pathfinder = RigidRobotPathfinder(start, goal, radius, clearance)\n    pathfinder.execute_pathfinding()\n    \n    print(\"Backtracked Path:\", pathfinder.backtrack_path())\n    print(\"Total Time Taken: \", time.time() - start_time, \"seconds\")\n\n    pathfinder.visualize_path()\n    pathfinder.animate_exploration()\n\nif __name__ == \"__main__\":\n    main()\n",
      "metadata": {
        "trusted": true
      },
      "outputs": [],
      "execution_count": null
    }
  ]
}